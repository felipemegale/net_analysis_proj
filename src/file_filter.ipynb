{
 "cells": [
  {
   "cell_type": "code",
   "execution_count": 32,
   "metadata": {},
   "outputs": [],
   "source": [
    "BASE_DATASETS_PATH='../FakeNews_Dataset/CSV'\n",
    "POLITIFACT_REAL_DATASET='politifact_real.csv'\n",
    "POLITIFACT_FAKE_DATASET='politifact_fake.csv'\n",
    "\n",
    "# load datasets\n",
    "with open(f'{BASE_DATASETS_PATH}/{POLITIFACT_REAL_DATASET}','r') as real_ds:\n",
    "    politifact_real = (real_ds.read().splitlines())\n",
    "with open(f'{BASE_DATASETS_PATH}/{POLITIFACT_FAKE_DATASET}','r') as fake_ds:\n",
    "    politifact_fake = (fake_ds.read().splitlines())"
   ]
  },
  {
   "cell_type": "code",
   "execution_count": 33,
   "metadata": {},
   "outputs": [
    {
     "name": "stdout",
     "output_type": "stream",
     "text": [
      "Qty real indexes 107\n",
      "Qty fake indexes 66\n"
     ]
    }
   ],
   "source": [
    "# count how many news have 500 tweets or more talking about it\n",
    "real_data = politifact_real[1:]\n",
    "fake_data = politifact_fake[1:]\n",
    "\n",
    "real_indexes = []\n",
    "fake_indexes = []\n",
    "\n",
    "for index in range(len(real_data)):\n",
    "    row = real_data[index].split(',')\n",
    "    tweet_ids = row[3].split('\\t')\n",
    "    if len(tweet_ids) >= 500:\n",
    "        real_indexes.append(index)\n",
    "\n",
    "for index in range(len(fake_data)):\n",
    "    row = fake_data[index].split(',')\n",
    "    tweet_ids = row[3].split('\\t')\n",
    "    if len(tweet_ids) >= 500:\n",
    "        fake_indexes.append(index)\n",
    "\n",
    "print('Qty real indexes', len(real_indexes))\n",
    "print('Qty fake indexes', len(fake_indexes))"
   ]
  },
  {
   "cell_type": "code",
   "execution_count": 34,
   "metadata": {},
   "outputs": [
    {
     "name": "stdout",
     "output_type": "stream",
     "text": [
      "Qty real tweets 355773\n",
      "Qty fake tweets 122236\n"
     ]
    }
   ],
   "source": [
    "# count the total number of tweets in the news that are most referenced\n",
    "qty_real_tweets = 0\n",
    "qty_fake_tweets = 0\n",
    "\n",
    "for real_index in real_indexes:\n",
    "    row = real_data[real_index].split(',')\n",
    "    tweet_ids = row[3].split('\\t')\n",
    "    qty_real_tweets += len(tweet_ids)\n",
    "\n",
    "for fake_index in fake_indexes:\n",
    "    row = fake_data[fake_index].split(',')\n",
    "    tweet_ids = row[3].split('\\t')\n",
    "    qty_fake_tweets += len(tweet_ids)\n",
    "\n",
    "print('Qty real tweets', qty_real_tweets)\n",
    "print('Qty fake tweets', qty_fake_tweets)"
   ]
  },
  {
   "cell_type": "code",
   "execution_count": 35,
   "metadata": {},
   "outputs": [],
   "source": [
    "# sort indexes by tweet count\n",
    "real_dict = {}\n",
    "fake_dict = {}\n",
    "\n",
    "for real_index in real_indexes:\n",
    "    row = real_data[real_index].split(',')\n",
    "    tweet_ids = row[3].split('\\t')\n",
    "    real_dict[real_index] = len(tweet_ids)\n",
    "\n",
    "for fake_index in fake_indexes:\n",
    "    row = fake_data[fake_index].split(',')\n",
    "    tweet_ids = row[3].split('\\t')\n",
    "    fake_dict[fake_index] = len(tweet_ids)\n",
    "\n",
    "sorted_real_dict = {k:v for k,v in sorted(real_dict.items(), key=lambda item: item[1], reverse=True)}\n",
    "sorted_fake_dict = {k:v for k,v in sorted(fake_dict.items(), key=lambda item: item[1], reverse=True)}"
   ]
  },
  {
   "cell_type": "code",
   "execution_count": 36,
   "metadata": {},
   "outputs": [],
   "source": [
    "# sample news tweets\n",
    "import random\n",
    "sampled_real_news = [['id,news_url,title,tweet_ids']]\n",
    "sampled_fake_news = [['id,news_url,title,tweet_ids']]\n",
    "\n",
    "for real_index in list(sorted_real_dict.keys())[:20]:\n",
    "    real_data_to_sample = real_data[real_index]\n",
    "    splitted_real_data_to_sample = real_data_to_sample.split(',')\n",
    "    random_tweet_ids = random.sample(splitted_real_data_to_sample[3].split('\\t'), 500)\n",
    "    random_tweet_ids = '\\t'.join(map(str,random_tweet_ids))\n",
    "    sampled_row = [splitted_real_data_to_sample[0],splitted_real_data_to_sample[1],splitted_real_data_to_sample[2],random_tweet_ids]\n",
    "    sampled_real_news.append(sampled_row)\n",
    "\n",
    "for fake_index in list(sorted_fake_dict.keys())[:20]:\n",
    "    fake_data_to_sample = fake_data[fake_index]\n",
    "    splitted_fake_data_to_sample = fake_data_to_sample.split(',')\n",
    "    random_tweet_ids = random.sample(splitted_fake_data_to_sample[3].split('\\t'), 500)\n",
    "    random_tweet_ids = '\\t'.join(map(str,random_tweet_ids))\n",
    "    sampled_row = [splitted_fake_data_to_sample[0],splitted_fake_data_to_sample[1],splitted_fake_data_to_sample[2],random_tweet_ids]\n",
    "    sampled_fake_news.append(sampled_row)\n"
   ]
  },
  {
   "cell_type": "code",
   "execution_count": 37,
   "metadata": {},
   "outputs": [],
   "source": [
    "# print sampled data to file\n",
    "import csv\n",
    "\n",
    "with open(f'{BASE_DATASETS_PATH}/sampled_real_news.csv', 'w') as f:\n",
    "    writer = csv.writer(f)\n",
    "    writer.writerows(sampled_real_news)\n",
    "\n",
    "with open(f'{BASE_DATASETS_PATH}/sampled_fake_news.csv', 'w') as f:\n",
    "    writer = csv.writer(f)\n",
    "    writer.writerows(sampled_fake_news)"
   ]
  },
  {
   "cell_type": "code",
   "execution_count": null,
   "metadata": {},
   "outputs": [],
   "source": []
  }
 ],
 "metadata": {
  "interpreter": {
   "hash": "7620f3d2b8afebb785706a9b7e217b2047cf180856e78161a79fff84bf03db70"
  },
  "kernelspec": {
   "display_name": "Python 3.9.7 ('base')",
   "language": "python",
   "name": "python3"
  },
  "language_info": {
   "codemirror_mode": {
    "name": "ipython",
    "version": 3
   },
   "file_extension": ".py",
   "mimetype": "text/x-python",
   "name": "python",
   "nbconvert_exporter": "python",
   "pygments_lexer": "ipython3",
   "version": "3.9.7"
  },
  "orig_nbformat": 4
 },
 "nbformat": 4,
 "nbformat_minor": 2
}
